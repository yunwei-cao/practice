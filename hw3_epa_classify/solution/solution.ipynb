{
 "cells": [
  {
   "cell_type": "code",
   "execution_count": 1,
   "id": "3d2c36e0",
   "metadata": {},
   "outputs": [],
   "source": [
    "import scipy\n",
    "import sklearn\n",
    "import json\n",
    "import pandas as pd\n",
    "import numpy as np\n",
    "from collections import Counter\n",
    "from numpy import random\n",
    "from sklearn.linear_model import LogisticRegression\n",
    "from sklearn.metrics import average_precision_score \n",
    "from sklearn.feature_extraction.text import TfidfVectorizer, CountVectorizer\n",
    "from collections import Counter"
   ]
  },
  {
   "cell_type": "markdown",
   "id": "c31a9533",
   "metadata": {},
   "source": [
    "# Download files and set up folder"
   ]
  },
  {
   "cell_type": "code",
   "execution_count": 2,
   "id": "fbe5a29c",
   "metadata": {},
   "outputs": [],
   "source": [
    "#download dataset from \"https://www.kaggle.com/competitions/sp23-inls690-270-citation-recommendation/data\"\n",
    "training_data_path = './reference_metadata_2013.csv'\n",
    "test_data_path = './reference_metadata_2020.csv'"
   ]
  },
  {
   "cell_type": "code",
   "execution_count": 3,
   "id": "cb5a3523",
   "metadata": {},
   "outputs": [],
   "source": [
    "# specify data type for each column (to be used in pandas read_csv function)\n",
    "dtype_dict = {'REFERENCE_ID': str, 'TITLE': str, 'AUTHOR': str, 'YEAR': str, 'ABSTRACT': str, 'CITED': int}"
   ]
  },
  {
   "cell_type": "code",
   "execution_count": 4,
   "id": "8d7ccd11",
   "metadata": {},
   "outputs": [],
   "source": [
    "dataframe = pd.read_csv(training_data_path, dtype = dtype_dict, keep_default_na = False)\n",
    "#dataframe"
   ]
  },
  {
   "cell_type": "code",
   "execution_count": 5,
   "id": "dcc09f44",
   "metadata": {},
   "outputs": [],
   "source": [
    "test_dataframe = pd.read_csv(test_data_path, dtype = dtype_dict, keep_default_na = False)\n",
    "#test_dataframe"
   ]
  },
  {
   "cell_type": "markdown",
   "id": "a6f72d43",
   "metadata": {},
   "source": [
    "# Feature scaling and hyperparameters tuning"
   ]
  },
  {
   "cell_type": "code",
   "execution_count": 6,
   "id": "71e22e00",
   "metadata": {},
   "outputs": [],
   "source": [
    "all_train_Y = dataframe['CITED']\n",
    "all_train_X = dataframe['TITLE']"
   ]
  },
  {
   "cell_type": "code",
   "execution_count": 7,
   "id": "f332e867",
   "metadata": {},
   "outputs": [],
   "source": [
    "# feature scaling\n",
    "\n",
    "from sklearn.preprocessing import MaxAbsScaler\n",
    "\n",
    "vectorizer = TfidfVectorizer()\n",
    "X_train = vectorizer.fit_transform(all_train_X)\n",
    "\n",
    "scaler = MaxAbsScaler()\n",
    "X_train_scaled = scaler.fit_transform(X_train)"
   ]
  },
  {
   "cell_type": "code",
   "execution_count": 8,
   "id": "307ba769",
   "metadata": {},
   "outputs": [
    {
     "name": "stderr",
     "output_type": "stream",
     "text": [
      "C:\\Users\\lenovo\\anaconda3\\lib\\site-packages\\sklearn\\linear_model\\_logistic.py:814: ConvergenceWarning: lbfgs failed to converge (status=1):\n",
      "STOP: TOTAL NO. of ITERATIONS REACHED LIMIT.\n",
      "\n",
      "Increase the number of iterations (max_iter) or scale the data as shown in:\n",
      "    https://scikit-learn.org/stable/modules/preprocessing.html\n",
      "Please also refer to the documentation for alternative solver options:\n",
      "    https://scikit-learn.org/stable/modules/linear_model.html#logistic-regression\n",
      "  n_iter_i = _check_optimize_result(\n",
      "C:\\Users\\lenovo\\anaconda3\\lib\\site-packages\\sklearn\\linear_model\\_logistic.py:814: ConvergenceWarning: lbfgs failed to converge (status=1):\n",
      "STOP: TOTAL NO. of ITERATIONS REACHED LIMIT.\n",
      "\n",
      "Increase the number of iterations (max_iter) or scale the data as shown in:\n",
      "    https://scikit-learn.org/stable/modules/preprocessing.html\n",
      "Please also refer to the documentation for alternative solver options:\n",
      "    https://scikit-learn.org/stable/modules/linear_model.html#logistic-regression\n",
      "  n_iter_i = _check_optimize_result(\n",
      "C:\\Users\\lenovo\\anaconda3\\lib\\site-packages\\sklearn\\linear_model\\_logistic.py:814: ConvergenceWarning: lbfgs failed to converge (status=1):\n",
      "STOP: TOTAL NO. of ITERATIONS REACHED LIMIT.\n",
      "\n",
      "Increase the number of iterations (max_iter) or scale the data as shown in:\n",
      "    https://scikit-learn.org/stable/modules/preprocessing.html\n",
      "Please also refer to the documentation for alternative solver options:\n",
      "    https://scikit-learn.org/stable/modules/linear_model.html#logistic-regression\n",
      "  n_iter_i = _check_optimize_result(\n",
      "C:\\Users\\lenovo\\anaconda3\\lib\\site-packages\\sklearn\\linear_model\\_logistic.py:814: ConvergenceWarning: lbfgs failed to converge (status=1):\n",
      "STOP: TOTAL NO. of ITERATIONS REACHED LIMIT.\n",
      "\n",
      "Increase the number of iterations (max_iter) or scale the data as shown in:\n",
      "    https://scikit-learn.org/stable/modules/preprocessing.html\n",
      "Please also refer to the documentation for alternative solver options:\n",
      "    https://scikit-learn.org/stable/modules/linear_model.html#logistic-regression\n",
      "  n_iter_i = _check_optimize_result(\n",
      "C:\\Users\\lenovo\\anaconda3\\lib\\site-packages\\sklearn\\linear_model\\_logistic.py:814: ConvergenceWarning: lbfgs failed to converge (status=1):\n",
      "STOP: TOTAL NO. of ITERATIONS REACHED LIMIT.\n",
      "\n",
      "Increase the number of iterations (max_iter) or scale the data as shown in:\n",
      "    https://scikit-learn.org/stable/modules/preprocessing.html\n",
      "Please also refer to the documentation for alternative solver options:\n",
      "    https://scikit-learn.org/stable/modules/linear_model.html#logistic-regression\n",
      "  n_iter_i = _check_optimize_result(\n",
      "C:\\Users\\lenovo\\anaconda3\\lib\\site-packages\\sklearn\\linear_model\\_logistic.py:814: ConvergenceWarning: lbfgs failed to converge (status=1):\n",
      "STOP: TOTAL NO. of ITERATIONS REACHED LIMIT.\n",
      "\n",
      "Increase the number of iterations (max_iter) or scale the data as shown in:\n",
      "    https://scikit-learn.org/stable/modules/preprocessing.html\n",
      "Please also refer to the documentation for alternative solver options:\n",
      "    https://scikit-learn.org/stable/modules/linear_model.html#logistic-regression\n",
      "  n_iter_i = _check_optimize_result(\n",
      "C:\\Users\\lenovo\\anaconda3\\lib\\site-packages\\sklearn\\linear_model\\_logistic.py:814: ConvergenceWarning: lbfgs failed to converge (status=1):\n",
      "STOP: TOTAL NO. of ITERATIONS REACHED LIMIT.\n",
      "\n",
      "Increase the number of iterations (max_iter) or scale the data as shown in:\n",
      "    https://scikit-learn.org/stable/modules/preprocessing.html\n",
      "Please also refer to the documentation for alternative solver options:\n",
      "    https://scikit-learn.org/stable/modules/linear_model.html#logistic-regression\n",
      "  n_iter_i = _check_optimize_result(\n",
      "C:\\Users\\lenovo\\anaconda3\\lib\\site-packages\\sklearn\\linear_model\\_logistic.py:814: ConvergenceWarning: lbfgs failed to converge (status=1):\n",
      "STOP: TOTAL NO. of ITERATIONS REACHED LIMIT.\n",
      "\n",
      "Increase the number of iterations (max_iter) or scale the data as shown in:\n",
      "    https://scikit-learn.org/stable/modules/preprocessing.html\n",
      "Please also refer to the documentation for alternative solver options:\n",
      "    https://scikit-learn.org/stable/modules/linear_model.html#logistic-regression\n",
      "  n_iter_i = _check_optimize_result(\n",
      "C:\\Users\\lenovo\\anaconda3\\lib\\site-packages\\sklearn\\linear_model\\_logistic.py:814: ConvergenceWarning: lbfgs failed to converge (status=1):\n",
      "STOP: TOTAL NO. of ITERATIONS REACHED LIMIT.\n",
      "\n",
      "Increase the number of iterations (max_iter) or scale the data as shown in:\n",
      "    https://scikit-learn.org/stable/modules/preprocessing.html\n",
      "Please also refer to the documentation for alternative solver options:\n",
      "    https://scikit-learn.org/stable/modules/linear_model.html#logistic-regression\n",
      "  n_iter_i = _check_optimize_result(\n",
      "C:\\Users\\lenovo\\anaconda3\\lib\\site-packages\\sklearn\\linear_model\\_logistic.py:814: ConvergenceWarning: lbfgs failed to converge (status=1):\n",
      "STOP: TOTAL NO. of ITERATIONS REACHED LIMIT.\n",
      "\n",
      "Increase the number of iterations (max_iter) or scale the data as shown in:\n",
      "    https://scikit-learn.org/stable/modules/preprocessing.html\n",
      "Please also refer to the documentation for alternative solver options:\n",
      "    https://scikit-learn.org/stable/modules/linear_model.html#logistic-regression\n",
      "  n_iter_i = _check_optimize_result(\n",
      "C:\\Users\\lenovo\\anaconda3\\lib\\site-packages\\sklearn\\model_selection\\_validation.py:372: FitFailedWarning: \n",
      "30 fits failed out of a total of 60.\n",
      "The score on these train-test partitions for these parameters will be set to nan.\n",
      "If these failures are not expected, you can try to debug them by setting error_score='raise'.\n",
      "\n",
      "Below are more details about the failures:\n",
      "--------------------------------------------------------------------------------\n",
      "30 fits failed with the following error:\n",
      "Traceback (most recent call last):\n",
      "  File \"C:\\Users\\lenovo\\anaconda3\\lib\\site-packages\\sklearn\\model_selection\\_validation.py\", line 680, in _fit_and_score\n",
      "    estimator.fit(X_train, y_train, **fit_params)\n",
      "  File \"C:\\Users\\lenovo\\anaconda3\\lib\\site-packages\\sklearn\\linear_model\\_logistic.py\", line 1461, in fit\n",
      "    solver = _check_solver(self.solver, self.penalty, self.dual)\n",
      "  File \"C:\\Users\\lenovo\\anaconda3\\lib\\site-packages\\sklearn\\linear_model\\_logistic.py\", line 447, in _check_solver\n",
      "    raise ValueError(\n",
      "ValueError: Solver lbfgs supports only 'l2' or 'none' penalties, got l1 penalty.\n",
      "\n",
      "  warnings.warn(some_fits_failed_message, FitFailedWarning)\n",
      "C:\\Users\\lenovo\\anaconda3\\lib\\site-packages\\sklearn\\model_selection\\_search.py:969: UserWarning: One or more of the test scores are non-finite: [       nan 0.86919859        nan 0.86919859        nan 0.86926202\n",
      "        nan 0.86241326        nan 0.83628893        nan 0.81251185]\n",
      "  warnings.warn(\n"
     ]
    },
    {
     "name": "stdout",
     "output_type": "stream",
     "text": [
      "Best parameters:  {'C': 0.1, 'penalty': 'l2'}\n",
      "Best cross-validation score:  0.8692620243255114\n"
     ]
    }
   ],
   "source": [
    "# hyperparameters tuning\n",
    "\n",
    "from sklearn.model_selection import GridSearchCV\n",
    "\n",
    "param_grid = {'C': [0.001, 0.01, 0.1, 1, 10, 100], 'penalty': ['l1', 'l2']}\n",
    "logreg = LogisticRegression()\n",
    "grid_search = GridSearchCV(logreg, param_grid, cv=5)\n",
    "grid_search.fit(X_train_scaled, all_train_Y)\n",
    "\n",
    "print(\"Best parameters: \", grid_search.best_params_)\n",
    "print(\"Best cross-validation score: \", grid_search.best_score_)"
   ]
  },
  {
   "cell_type": "code",
   "execution_count": 9,
   "id": "b6cba6fd",
   "metadata": {},
   "outputs": [
    {
     "data": {
      "text/plain": [
       "LogisticRegression(C=0.1, solver='liblinear')"
      ]
     },
     "execution_count": 9,
     "metadata": {},
     "output_type": "execute_result"
    }
   ],
   "source": [
    "# train the model\n",
    "\n",
    "model = LogisticRegression(penalty='l2', C = 0.1, solver='liblinear')\n",
    "model.fit(X_train_scaled, all_train_Y)"
   ]
  },
  {
   "cell_type": "code",
   "execution_count": 10,
   "id": "dd9ef8ce",
   "metadata": {},
   "outputs": [
    {
     "name": "stdout",
     "output_type": "stream",
     "text": [
      "Logistic regression, average precision on training set: 0.5093496852901724\n"
     ]
    }
   ],
   "source": [
    "# evaluation on all train set\n",
    "\n",
    "train_Y_hat = model.predict_proba(X_train_scaled)\n",
    "train_Y = dataframe['CITED'].to_numpy()\n",
    "ap = average_precision_score(train_Y, train_Y_hat[:,1])\n",
    "print ('Logistic regression, average precision on training set:', ap)"
   ]
  },
  {
   "cell_type": "code",
   "execution_count": 11,
   "id": "5e22eb0c",
   "metadata": {},
   "outputs": [
    {
     "name": "stdout",
     "output_type": "stream",
     "text": [
      "[[0.96252869 0.03747131]\n",
      " [0.91485569 0.08514431]\n",
      " [0.8655341  0.1344659 ]\n",
      " ...\n",
      " [0.88875631 0.11124369]\n",
      " [0.87813092 0.12186908]\n",
      " [0.90435106 0.09564894]]\n"
     ]
    }
   ],
   "source": [
    "# get the result from test set\n",
    "\n",
    "test_X = vectorizer.transform(test_dataframe['TITLE'])\n",
    "X_test_scaled = scaler.transform(test_X)\n",
    "test_Y_hat = model.predict_proba(X_test_scaled)\n",
    "print(test_Y_hat)"
   ]
  },
  {
   "cell_type": "code",
   "execution_count": 12,
   "id": "76909227",
   "metadata": {},
   "outputs": [],
   "source": [
    "# output the result file\n",
    "\n",
    "def write_test_prediction(df, pred, filepath):\n",
    "    with open(filepath, 'w') as outfile:\n",
    "        outfile.write('{},{}\\n'.format('REFERENCE_ID', 'Score'))\n",
    "        for index, row in df.iterrows():\n",
    "            outfile.write('{},{}\\n'.format(row['REFERENCE_ID'], pred[index]))\n",
    "    print (len(df), 'predictions are written to', filepath)"
   ]
  },
  {
   "cell_type": "code",
   "execution_count": 13,
   "id": "3e54bed0",
   "metadata": {},
   "outputs": [
    {
     "name": "stdout",
     "output_type": "stream",
     "text": [
      "171376 predictions are written to ./logit_reg_1.csv\n"
     ]
    }
   ],
   "source": [
    "write_test_prediction(test_dataframe, test_Y_hat[:,1], './logit_reg_1.csv')"
   ]
  },
  {
   "cell_type": "markdown",
   "id": "63f997f5",
   "metadata": {},
   "source": [
    "# Feature selection "
   ]
  },
  {
   "cell_type": "code",
   "execution_count": 14,
   "id": "1863ecff",
   "metadata": {},
   "outputs": [],
   "source": [
    "# Feature selection\n",
    "\n",
    "from sklearn.feature_selection import SelectKBest, chi2\n",
    "\n",
    "vectorizer = TfidfVectorizer()\n",
    "X_train = vectorizer.fit_transform(all_train_X)\n",
    "\n",
    "selector = SelectKBest(chi2, k=12000)\n",
    "selector.fit(X_train, all_train_Y)\n",
    "X_train_new = selector.transform(X_train)\n",
    "\n",
    "scaler = MaxAbsScaler()\n",
    "X_train_scaled = scaler.fit_transform(X_train_new)"
   ]
  },
  {
   "cell_type": "code",
   "execution_count": 15,
   "id": "171cdc99",
   "metadata": {},
   "outputs": [
    {
     "name": "stdout",
     "output_type": "stream",
     "text": [
      "Logistic regression, average precision on training set: 0.4927160558246138\n"
     ]
    }
   ],
   "source": [
    "# train the model and evaluation on all train set\n",
    "\n",
    "model = LogisticRegression(C = 0.1, solver='liblinear')\n",
    "model.fit(X_train_scaled, all_train_Y)\n",
    "\n",
    "train_Y_hat = model.predict_proba(X_train_new)\n",
    "train_Y = dataframe['CITED'].to_numpy()\n",
    "ap = average_precision_score(train_Y, train_Y_hat[:,1])\n",
    "print ('Logistic regression, average precision on training set:', ap)"
   ]
  },
  {
   "cell_type": "code",
   "execution_count": 16,
   "id": "ae29ca29",
   "metadata": {},
   "outputs": [
    {
     "name": "stdout",
     "output_type": "stream",
     "text": [
      "[[0.93699988 0.06300012]\n",
      " [0.91462164 0.08537836]\n",
      " [0.88238835 0.11761165]\n",
      " ...\n",
      " [0.89291952 0.10708048]\n",
      " [0.89720867 0.10279133]\n",
      " [0.89235193 0.10764807]]\n"
     ]
    }
   ],
   "source": [
    "# get the result from test set\n",
    "\n",
    "test_X = vectorizer.transform(test_dataframe['TITLE'])\n",
    "test_X_new = selector.transform(test_X)\n",
    "test_Y_hat = model.predict_proba(test_X_new)\n",
    "print(test_Y_hat)"
   ]
  },
  {
   "cell_type": "code",
   "execution_count": 17,
   "id": "d771c8a7",
   "metadata": {},
   "outputs": [
    {
     "name": "stdout",
     "output_type": "stream",
     "text": [
      "171376 predictions are written to ./logit_reg_2.csv\n"
     ]
    }
   ],
   "source": [
    "# output the result file\n",
    "\n",
    "write_test_prediction(test_dataframe, test_Y_hat[:,1], './logit_reg_2.csv')"
   ]
  },
  {
   "cell_type": "markdown",
   "id": "54d75dc1",
   "metadata": {},
   "source": [
    "# Model ensembling "
   ]
  },
  {
   "cell_type": "code",
   "execution_count": 18,
   "id": "85e41c14",
   "metadata": {},
   "outputs": [
    {
     "name": "stdout",
     "output_type": "stream",
     "text": [
      "training set size: 7886\n",
      "validation set size: 7886\n"
     ]
    }
   ],
   "source": [
    "# equally split into train and validate set\n",
    "\n",
    "train_ratio = 0.5 # 50% for training, 30% for validation\n",
    "random_seed = 100\n",
    "\n",
    "train_dataframe = dataframe.sample(frac=train_ratio, random_state=random_seed)\n",
    "valid_dataframe = dataframe.drop(train_dataframe.index)\n",
    "print('training set size:', len(train_dataframe))\n",
    "print('validation set size:', len(valid_dataframe))"
   ]
  },
  {
   "cell_type": "code",
   "execution_count": 19,
   "id": "5bd73a21",
   "metadata": {},
   "outputs": [
    {
     "name": "stdout",
     "output_type": "stream",
     "text": [
      "(7886, 9114)\n",
      "(171376, 9114)\n"
     ]
    }
   ],
   "source": [
    "# train on model1 (the train set) and get the prediction1\n",
    "\n",
    "from sklearn.preprocessing import MaxAbsScaler\n",
    "\n",
    "vectorizer = TfidfVectorizer()\n",
    "train_X = vectorizer.fit_transform(train_dataframe['TITLE'])\n",
    "\n",
    "scaler = MaxAbsScaler()\n",
    "train_X_scaled = scaler.fit_transform(train_X)\n",
    "\n",
    "train_Y = train_dataframe['CITED']\n",
    "\n",
    "test_X1 = vectorizer.transform(test_dataframe['TITLE'])\n",
    "X_test_scaled1 = scaler.transform(test_X1)\n",
    "\n",
    "print(train_X_scaled.shape)\n",
    "print(X_test_scaled1.shape)"
   ]
  },
  {
   "cell_type": "code",
   "execution_count": 20,
   "id": "30a637fe",
   "metadata": {},
   "outputs": [
    {
     "name": "stdout",
     "output_type": "stream",
     "text": [
      "[[0.9508395  0.0491605 ]\n",
      " [0.91727432 0.08272568]\n",
      " [0.87550741 0.12449259]\n",
      " ...\n",
      " [0.87330112 0.12669888]\n",
      " [0.89491425 0.10508575]\n",
      " [0.90589112 0.09410888]]\n"
     ]
    }
   ],
   "source": [
    "model = LogisticRegression(penalty='l2', C = 0.1, solver='liblinear')\n",
    "model.fit(train_X_scaled, train_Y)\n",
    "\n",
    "test_Y_hat1 = model.predict_proba(X_test_scaled1)\n",
    "print(test_Y_hat1)"
   ]
  },
  {
   "cell_type": "code",
   "execution_count": 21,
   "id": "9deefd9c",
   "metadata": {},
   "outputs": [
    {
     "name": "stdout",
     "output_type": "stream",
     "text": [
      "(7886, 9072)\n",
      "(171376, 9072)\n"
     ]
    }
   ],
   "source": [
    "# train on model2 (the validate set) and get the prediction2\n",
    "\n",
    "valid_X = vectorizer.fit_transform(valid_dataframe['TITLE'])\n",
    "valid_X_scaled = scaler.fit_transform(valid_X)\n",
    "valid_Y = valid_dataframe['CITED']\n",
    "\n",
    "test_X2 = vectorizer.transform(test_dataframe['TITLE'])\n",
    "X_test_scaled2 = scaler.transform(test_X2)\n",
    "\n",
    "print(valid_X_scaled.shape)\n",
    "print(X_test_scaled2.shape)"
   ]
  },
  {
   "cell_type": "code",
   "execution_count": 22,
   "id": "5d8c0084",
   "metadata": {},
   "outputs": [
    {
     "name": "stdout",
     "output_type": "stream",
     "text": [
      "[[0.95191374 0.04808626]\n",
      " [0.89756716 0.10243284]\n",
      " [0.86021421 0.13978579]\n",
      " ...\n",
      " [0.8671971  0.1328029 ]\n",
      " [0.85554922 0.14445078]\n",
      " [0.8795475  0.1204525 ]]\n"
     ]
    }
   ],
   "source": [
    "model = LogisticRegression(penalty='l2', C = 0.1, solver='liblinear')\n",
    "model.fit(valid_X_scaled, valid_Y)\n",
    "\n",
    "test_Y_hat2 = model.predict_proba(X_test_scaled2)\n",
    "print(test_Y_hat2)"
   ]
  },
  {
   "cell_type": "code",
   "execution_count": 23,
   "id": "631d2be4",
   "metadata": {},
   "outputs": [
    {
     "name": "stdout",
     "output_type": "stream",
     "text": [
      "[[0.95137662 0.04862338]\n",
      " [0.90742074 0.09257926]\n",
      " [0.86786081 0.13213919]\n",
      " ...\n",
      " [0.87024911 0.12975089]\n",
      " [0.87523173 0.12476827]\n",
      " [0.89271931 0.10728069]]\n"
     ]
    }
   ],
   "source": [
    "# get the average prediction\n",
    "\n",
    "predictions = [test_Y_hat1, test_Y_hat2]\n",
    "avg_predictions = np.mean(predictions, axis=0)\n",
    "print(avg_predictions)"
   ]
  },
  {
   "cell_type": "code",
   "execution_count": 24,
   "id": "1fb847a3",
   "metadata": {},
   "outputs": [
    {
     "name": "stdout",
     "output_type": "stream",
     "text": [
      "171376 predictions are written to ./logit_reg_3.csv\n"
     ]
    }
   ],
   "source": [
    "# output the result file\n",
    "\n",
    "write_test_prediction(test_dataframe, avg_predictions[:,1], './logit_reg_3.csv')"
   ]
  },
  {
   "cell_type": "markdown",
   "id": "564570a6",
   "metadata": {},
   "source": [
    "# Ridge regression"
   ]
  },
  {
   "cell_type": "code",
   "execution_count": 26,
   "id": "6b5ba80a",
   "metadata": {},
   "outputs": [
    {
     "name": "stdout",
     "output_type": "stream",
     "text": [
      "[[9.99487108e-01 5.12892249e-04]\n",
      " [5.66978286e-01 4.33021714e-01]\n",
      " [9.93852204e-01 6.14779595e-03]\n",
      " ...\n",
      " [9.94385331e-01 5.61466928e-03]\n",
      " [7.64634999e-01 2.35365001e-01]\n",
      " [9.95750368e-01 4.24963246e-03]]\n"
     ]
    }
   ],
   "source": [
    "from sklearn.linear_model import RidgeClassifier\n",
    "from sklearn.calibration import CalibratedClassifierCV\n",
    "\n",
    "vectorizer = TfidfVectorizer()\n",
    "vectorizer.fit(dataframe['TITLE'])\n",
    "all_train_X = vectorizer.transform(dataframe['TITLE'])\n",
    "all_train_Y = dataframe['CITED']\n",
    "\n",
    "# use the calibrated model to get the predict_proba \n",
    "model = RidgeClassifier()\n",
    "model.fit(all_train_X, all_train_Y)\n",
    "calibrated_model = CalibratedClassifierCV(model, cv='prefit')\n",
    "calibrated_model.fit(all_train_X, all_train_Y)\n",
    "\n",
    "test_X = vectorizer.transform(test_dataframe['TITLE'])\n",
    "test_Y_hat = calibrated_model.predict_proba(test_X)\n",
    "print(test_Y_hat)"
   ]
  },
  {
   "cell_type": "code",
   "execution_count": 27,
   "id": "3da17990",
   "metadata": {},
   "outputs": [
    {
     "name": "stdout",
     "output_type": "stream",
     "text": [
      "171376 predictions are written to ./ridge_regression.csv\n"
     ]
    }
   ],
   "source": [
    "write_test_prediction(test_dataframe, test_Y_hat[:,1], './ridge_regression.csv')"
   ]
  },
  {
   "cell_type": "code",
   "execution_count": null,
   "id": "f1fe4900",
   "metadata": {},
   "outputs": [],
   "source": []
  }
 ],
 "metadata": {
  "kernelspec": {
   "display_name": "Python 3 (ipykernel)",
   "language": "python",
   "name": "python3"
  },
  "language_info": {
   "codemirror_mode": {
    "name": "ipython",
    "version": 3
   },
   "file_extension": ".py",
   "mimetype": "text/x-python",
   "name": "python",
   "nbconvert_exporter": "python",
   "pygments_lexer": "ipython3",
   "version": "3.9.12"
  }
 },
 "nbformat": 4,
 "nbformat_minor": 5
}
