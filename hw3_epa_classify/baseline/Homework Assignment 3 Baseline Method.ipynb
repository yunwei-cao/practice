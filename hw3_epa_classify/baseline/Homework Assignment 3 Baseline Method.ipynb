{
 "cells": [
  {
   "cell_type": "code",
   "execution_count": 1,
   "id": "e66fb1cc",
   "metadata": {},
   "outputs": [],
   "source": [
    "import scipy\n",
    "import sklearn\n",
    "import json\n",
    "import pandas as pd\n",
    "import numpy as np\n",
    "from collections import Counter\n",
    "from numpy import random\n",
    "from sklearn.linear_model import LogisticRegression\n",
    "from sklearn.metrics import average_precision_score \n",
    "from sklearn.feature_extraction.text import TfidfVectorizer, CountVectorizer\n",
    "from collections import Counter"
   ]
  },
  {
   "cell_type": "markdown",
   "id": "5edaca44",
   "metadata": {},
   "source": [
    "# Download files, set up folder, put files into folder"
   ]
  },
  {
   "cell_type": "code",
   "execution_count": 2,
   "id": "485efed8",
   "metadata": {},
   "outputs": [],
   "source": [
    "#download dataset from \"https://www.kaggle.com/competitions/sp23-inls690-270-citation-recommendation/data\"\n",
    "training_data_path = './reference_metadata_2013.csv'\n",
    "test_data_path = './reference_metadata_2020.csv'"
   ]
  },
  {
   "cell_type": "code",
   "execution_count": 3,
   "id": "98f3e7d7",
   "metadata": {},
   "outputs": [],
   "source": [
    "# specify data type for each column (to be used in pandas read_csv function)\n",
    "dtype_dict = {'REFERENCE_ID': str, 'TITLE': str, 'AUTHOR': str, 'YEAR': str, 'ABSTRACT': str, 'CITED': int}"
   ]
  },
  {
   "cell_type": "code",
   "execution_count": 4,
   "id": "094d8416",
   "metadata": {},
   "outputs": [
    {
     "data": {
      "text/html": [
       "<div>\n",
       "<style scoped>\n",
       "    .dataframe tbody tr th:only-of-type {\n",
       "        vertical-align: middle;\n",
       "    }\n",
       "\n",
       "    .dataframe tbody tr th {\n",
       "        vertical-align: top;\n",
       "    }\n",
       "\n",
       "    .dataframe thead th {\n",
       "        text-align: right;\n",
       "    }\n",
       "</style>\n",
       "<table border=\"1\" class=\"dataframe\">\n",
       "  <thead>\n",
       "    <tr style=\"text-align: right;\">\n",
       "      <th></th>\n",
       "      <th>REFERENCE_ID</th>\n",
       "      <th>TITLE</th>\n",
       "      <th>AUTHORS</th>\n",
       "      <th>YEAR</th>\n",
       "      <th>ABSTRACT</th>\n",
       "      <th>CITED</th>\n",
       "    </tr>\n",
       "  </thead>\n",
       "  <tbody>\n",
       "    <tr>\n",
       "      <th>0</th>\n",
       "      <td>38553</td>\n",
       "      <td>On some secondary physiological effects produc...</td>\n",
       "      <td>Schonbein, CF</td>\n",
       "      <td>1851</td>\n",
       "      <td></td>\n",
       "      <td>0</td>\n",
       "    </tr>\n",
       "    <tr>\n",
       "      <th>1</th>\n",
       "      <td>43125</td>\n",
       "      <td>On the influence of carbonic acid in the air u...</td>\n",
       "      <td>Arrhenius, S</td>\n",
       "      <td>1896</td>\n",
       "      <td></td>\n",
       "      <td>0</td>\n",
       "    </tr>\n",
       "    <tr>\n",
       "      <th>2</th>\n",
       "      <td>15073</td>\n",
       "      <td>On the influence of ozone inhalation on lung f...</td>\n",
       "      <td>Bohr, C; Maar, V</td>\n",
       "      <td>1904</td>\n",
       "      <td></td>\n",
       "      <td>0</td>\n",
       "    </tr>\n",
       "    <tr>\n",
       "      <th>3</th>\n",
       "      <td>15027</td>\n",
       "      <td>The physiological influence of ozone</td>\n",
       "      <td>Hill, L; Flack, M</td>\n",
       "      <td>1912</td>\n",
       "      <td></td>\n",
       "      <td>0</td>\n",
       "    </tr>\n",
       "    <tr>\n",
       "      <th>4</th>\n",
       "      <td>15040</td>\n",
       "      <td>Ozone: its bactericidal, physiologic and deodo...</td>\n",
       "      <td>Jordan, EO; Carlson, AJ</td>\n",
       "      <td>1913</td>\n",
       "      <td></td>\n",
       "      <td>0</td>\n",
       "    </tr>\n",
       "    <tr>\n",
       "      <th>...</th>\n",
       "      <td>...</td>\n",
       "      <td>...</td>\n",
       "      <td>...</td>\n",
       "      <td>...</td>\n",
       "      <td>...</td>\n",
       "      <td>...</td>\n",
       "    </tr>\n",
       "    <tr>\n",
       "      <th>15767</th>\n",
       "      <td>399340</td>\n",
       "      <td>A proposal to use ozone data to validate a sys...</td>\n",
       "      <td>Devlin, R</td>\n",
       "      <td></td>\n",
       "      <td></td>\n",
       "      <td>0</td>\n",
       "    </tr>\n",
       "    <tr>\n",
       "      <th>15768</th>\n",
       "      <td>79865</td>\n",
       "      <td>MTBE effect on vehicle emissions at cold tempe...</td>\n",
       "      <td>Cook, R</td>\n",
       "      <td></td>\n",
       "      <td></td>\n",
       "      <td>0</td>\n",
       "    </tr>\n",
       "    <tr>\n",
       "      <th>15769</th>\n",
       "      <td>39888</td>\n",
       "      <td>Car population getting older: New registration...</td>\n",
       "      <td></td>\n",
       "      <td></td>\n",
       "      <td></td>\n",
       "      <td>0</td>\n",
       "    </tr>\n",
       "    <tr>\n",
       "      <th>15770</th>\n",
       "      <td>80661</td>\n",
       "      <td>An evaluation of the cytotoxicity and mutageni...</td>\n",
       "      <td>Garrett, NE; Chescheir GM III; Custer, NA; She...</td>\n",
       "      <td></td>\n",
       "      <td></td>\n",
       "      <td>0</td>\n",
       "    </tr>\n",
       "    <tr>\n",
       "      <th>15771</th>\n",
       "      <td>87270</td>\n",
       "      <td>Motor gasolines technical review</td>\n",
       "      <td></td>\n",
       "      <td></td>\n",
       "      <td></td>\n",
       "      <td>0</td>\n",
       "    </tr>\n",
       "  </tbody>\n",
       "</table>\n",
       "<p>15772 rows × 6 columns</p>\n",
       "</div>"
      ],
      "text/plain": [
       "      REFERENCE_ID                                              TITLE  \\\n",
       "0            38553  On some secondary physiological effects produc...   \n",
       "1            43125  On the influence of carbonic acid in the air u...   \n",
       "2            15073  On the influence of ozone inhalation on lung f...   \n",
       "3            15027               The physiological influence of ozone   \n",
       "4            15040  Ozone: its bactericidal, physiologic and deodo...   \n",
       "...            ...                                                ...   \n",
       "15767       399340  A proposal to use ozone data to validate a sys...   \n",
       "15768        79865  MTBE effect on vehicle emissions at cold tempe...   \n",
       "15769        39888  Car population getting older: New registration...   \n",
       "15770        80661  An evaluation of the cytotoxicity and mutageni...   \n",
       "15771        87270                   Motor gasolines technical review   \n",
       "\n",
       "                                                 AUTHORS  YEAR ABSTRACT  CITED  \n",
       "0                                          Schonbein, CF  1851               0  \n",
       "1                                           Arrhenius, S  1896               0  \n",
       "2                                       Bohr, C; Maar, V  1904               0  \n",
       "3                                      Hill, L; Flack, M  1912               0  \n",
       "4                                Jordan, EO; Carlson, AJ  1913               0  \n",
       "...                                                  ...   ...      ...    ...  \n",
       "15767                                          Devlin, R                     0  \n",
       "15768                                            Cook, R                     0  \n",
       "15769                                                                        0  \n",
       "15770  Garrett, NE; Chescheir GM III; Custer, NA; She...                     0  \n",
       "15771                                                                        0  \n",
       "\n",
       "[15772 rows x 6 columns]"
      ]
     },
     "execution_count": 4,
     "metadata": {},
     "output_type": "execute_result"
    }
   ],
   "source": [
    "dataframe = pd.read_csv(training_data_path, dtype = dtype_dict, keep_default_na = False)\n",
    "dataframe"
   ]
  },
  {
   "cell_type": "code",
   "execution_count": 5,
   "id": "c90d5f44",
   "metadata": {},
   "outputs": [
    {
     "name": "stdout",
     "output_type": "stream",
     "text": [
      "training set size: 11040\n",
      "validation set size: 4732\n"
     ]
    }
   ],
   "source": [
    "train_ratio = 0.7 # 70% for training, 30% for validation\n",
    "random_seed = 100\n",
    "\n",
    "train_dataframe = dataframe.sample(frac=train_ratio, random_state=random_seed)\n",
    "valid_dataframe = dataframe.drop(train_dataframe.index)\n",
    "print('training set size:', len(train_dataframe))\n",
    "print('validation set size:', len(valid_dataframe))"
   ]
  },
  {
   "cell_type": "code",
   "execution_count": 6,
   "id": "9ba3580c",
   "metadata": {},
   "outputs": [
    {
     "data": {
      "text/html": [
       "<div>\n",
       "<style scoped>\n",
       "    .dataframe tbody tr th:only-of-type {\n",
       "        vertical-align: middle;\n",
       "    }\n",
       "\n",
       "    .dataframe tbody tr th {\n",
       "        vertical-align: top;\n",
       "    }\n",
       "\n",
       "    .dataframe thead th {\n",
       "        text-align: right;\n",
       "    }\n",
       "</style>\n",
       "<table border=\"1\" class=\"dataframe\">\n",
       "  <thead>\n",
       "    <tr style=\"text-align: right;\">\n",
       "      <th></th>\n",
       "      <th>REFERENCE_ID</th>\n",
       "      <th>TITLE</th>\n",
       "      <th>AUTHORS</th>\n",
       "      <th>YEAR</th>\n",
       "      <th>ABSTRACT</th>\n",
       "    </tr>\n",
       "  </thead>\n",
       "  <tbody>\n",
       "    <tr>\n",
       "      <th>0</th>\n",
       "      <td>43125</td>\n",
       "      <td>On the influence of carbonic acid in the air u...</td>\n",
       "      <td>Arrhenius, S</td>\n",
       "      <td>1896</td>\n",
       "      <td></td>\n",
       "    </tr>\n",
       "    <tr>\n",
       "      <th>1</th>\n",
       "      <td>15018</td>\n",
       "      <td>Sulfur dioxide and fume problems and their sol...</td>\n",
       "      <td>O'Gara, PJ</td>\n",
       "      <td>1922</td>\n",
       "      <td></td>\n",
       "    </tr>\n",
       "    <tr>\n",
       "      <th>2</th>\n",
       "      <td>15101</td>\n",
       "      <td>Effects of air pollution in animals</td>\n",
       "      <td>Stokinger, HE</td>\n",
       "      <td>1962</td>\n",
       "      <td></td>\n",
       "    </tr>\n",
       "    <tr>\n",
       "      <th>3</th>\n",
       "      <td>15024</td>\n",
       "      <td>Ozone injury to the foliage of Pinus ponderosa</td>\n",
       "      <td>Miller, PR; Parmeter, JR, Jr; Taylor, OC; Card...</td>\n",
       "      <td>1963</td>\n",
       "      <td></td>\n",
       "    </tr>\n",
       "    <tr>\n",
       "      <th>4</th>\n",
       "      <td>15567</td>\n",
       "      <td>The role of ozone in radiation avoidance in th...</td>\n",
       "      <td>Peterson, DC; Andrews, HL</td>\n",
       "      <td>1963</td>\n",
       "      <td></td>\n",
       "    </tr>\n",
       "    <tr>\n",
       "      <th>...</th>\n",
       "      <td>...</td>\n",
       "      <td>...</td>\n",
       "      <td>...</td>\n",
       "      <td>...</td>\n",
       "      <td>...</td>\n",
       "    </tr>\n",
       "    <tr>\n",
       "      <th>171371</th>\n",
       "      <td>1853643</td>\n",
       "      <td>Comparing and Combining CE-ESI-MS and nano-LC-...</td>\n",
       "      <td>Sarg, B; Faserl, K; Kremser, L; Halfinger, B; ...</td>\n",
       "      <td></td>\n",
       "      <td>We present the first comprehensive capillary-e...</td>\n",
       "    </tr>\n",
       "    <tr>\n",
       "      <th>171372</th>\n",
       "      <td>2230284</td>\n",
       "      <td>Inhibition of NOX/VPO1 pathway and inflammator...</td>\n",
       "      <td>Liu, B; Luo, XJ; Yang, ZB; Zhang, JJ; Li, TB; ...</td>\n",
       "      <td></td>\n",
       "      <td>Recent studies show that resveratrol exerts be...</td>\n",
       "    </tr>\n",
       "    <tr>\n",
       "      <th>171373</th>\n",
       "      <td>2367014</td>\n",
       "      <td>Role of calmodulin in thermotolerance</td>\n",
       "      <td>Jia, L; Chu, H; Wu, D; Feng, M; Zhao, L</td>\n",
       "      <td></td>\n",
       "      <td>Nitric oxide (NO) and hydrogen peroxide (H 2O ...</td>\n",
       "    </tr>\n",
       "    <tr>\n",
       "      <th>171374</th>\n",
       "      <td>2369490</td>\n",
       "      <td>Predominance of Biotic over Abiotic Formation ...</td>\n",
       "      <td>Ruecker, A; Weigold, P; Behrens, S; Jochmann, ...</td>\n",
       "      <td></td>\n",
       "      <td>Volatile halogenated organic compounds (VOX) c...</td>\n",
       "    </tr>\n",
       "    <tr>\n",
       "      <th>171375</th>\n",
       "      <td>5077054</td>\n",
       "      <td>Skin damage by tropospheric ozone</td>\n",
       "      <td>Fuks, KB; Woodby, B; Valacchi, G</td>\n",
       "      <td></td>\n",
       "      <td>Tropospheric (ground level) ozone (O3) is a se...</td>\n",
       "    </tr>\n",
       "  </tbody>\n",
       "</table>\n",
       "<p>171376 rows × 5 columns</p>\n",
       "</div>"
      ],
      "text/plain": [
       "       REFERENCE_ID                                              TITLE  \\\n",
       "0             43125  On the influence of carbonic acid in the air u...   \n",
       "1             15018  Sulfur dioxide and fume problems and their sol...   \n",
       "2             15101                Effects of air pollution in animals   \n",
       "3             15024     Ozone injury to the foliage of Pinus ponderosa   \n",
       "4             15567  The role of ozone in radiation avoidance in th...   \n",
       "...             ...                                                ...   \n",
       "171371      1853643  Comparing and Combining CE-ESI-MS and nano-LC-...   \n",
       "171372      2230284  Inhibition of NOX/VPO1 pathway and inflammator...   \n",
       "171373      2367014              Role of calmodulin in thermotolerance   \n",
       "171374      2369490  Predominance of Biotic over Abiotic Formation ...   \n",
       "171375      5077054                  Skin damage by tropospheric ozone   \n",
       "\n",
       "                                                  AUTHORS  YEAR  \\\n",
       "0                                            Arrhenius, S  1896   \n",
       "1                                              O'Gara, PJ  1922   \n",
       "2                                           Stokinger, HE  1962   \n",
       "3       Miller, PR; Parmeter, JR, Jr; Taylor, OC; Card...  1963   \n",
       "4                               Peterson, DC; Andrews, HL  1963   \n",
       "...                                                   ...   ...   \n",
       "171371  Sarg, B; Faserl, K; Kremser, L; Halfinger, B; ...         \n",
       "171372  Liu, B; Luo, XJ; Yang, ZB; Zhang, JJ; Li, TB; ...         \n",
       "171373            Jia, L; Chu, H; Wu, D; Feng, M; Zhao, L         \n",
       "171374  Ruecker, A; Weigold, P; Behrens, S; Jochmann, ...         \n",
       "171375                   Fuks, KB; Woodby, B; Valacchi, G         \n",
       "\n",
       "                                                 ABSTRACT  \n",
       "0                                                          \n",
       "1                                                          \n",
       "2                                                          \n",
       "3                                                          \n",
       "4                                                          \n",
       "...                                                   ...  \n",
       "171371  We present the first comprehensive capillary-e...  \n",
       "171372  Recent studies show that resveratrol exerts be...  \n",
       "171373  Nitric oxide (NO) and hydrogen peroxide (H 2O ...  \n",
       "171374  Volatile halogenated organic compounds (VOX) c...  \n",
       "171375  Tropospheric (ground level) ozone (O3) is a se...  \n",
       "\n",
       "[171376 rows x 5 columns]"
      ]
     },
     "execution_count": 6,
     "metadata": {},
     "output_type": "execute_result"
    }
   ],
   "source": [
    "test_dataframe = pd.read_csv(test_data_path, dtype = dtype_dict, keep_default_na = False)\n",
    "test_dataframe"
   ]
  },
  {
   "cell_type": "markdown",
   "id": "d1093bd1",
   "metadata": {},
   "source": [
    "# Data exploration for training & test data ... YOUR TURN!"
   ]
  },
  {
   "cell_type": "code",
   "execution_count": 7,
   "id": "e711c334",
   "metadata": {},
   "outputs": [],
   "source": [
    "def print_topk_tfidf_words(df, column_name, k):\n",
    "    counter = Counter()\n",
    "    for index, row in dataframe.iterrows():\n",
    "        counter.update(row[column_name].strip().lower().split())\n",
    "        \n",
    "    # sort words by frequency from high to low\n",
    "    for word, count in sorted(counter.items(), key = lambda x: x[1], reverse = True)[:k]:\n",
    "        print (word, count)"
   ]
  },
  {
   "cell_type": "code",
   "execution_count": 8,
   "id": "7e01f4e2",
   "metadata": {},
   "outputs": [],
   "source": [
    "# print_topk_tfidf_words(dataframe, 'TITLE', 100)\n",
    "# print_topk_tfidf_words(dataframe, 'ABSTRACT', 100)\n",
    "# print_topk_tfidf_words(test_dataframe, 'TITLE', 100)\n",
    "# print_topk_tfidf_words(test_dataframe, 'TITLE', 100)"
   ]
  },
  {
   "cell_type": "markdown",
   "id": "24ed8682",
   "metadata": {},
   "source": [
    "# Try the trivial baseline: assign random scores to references in the validation set (no learning is needed)"
   ]
  },
  {
   "cell_type": "code",
   "execution_count": 9,
   "id": "be4852dc",
   "metadata": {},
   "outputs": [
    {
     "name": "stdout",
     "output_type": "stream",
     "text": [
      "Average precision of random scoring on validation set: 0.12183710012164993\n"
     ]
    }
   ],
   "source": [
    "# Make a list of scores uniformly randomly drawn between 0 and 1 as ranking scores. \n",
    "# This trivial baseline gives the performance lower bound on the validation set\n",
    "# Note: we are using average precision as the performance metric\n",
    "random_pred = [random.random() for i in range(len(valid_dataframe))]\n",
    "ap = average_precision_score(valid_dataframe['CITED'], random_pred)\n",
    "print ('Average precision of random scoring on validation set:', ap)"
   ]
  },
  {
   "cell_type": "code",
   "execution_count": 10,
   "id": "41f61fdf",
   "metadata": {},
   "outputs": [],
   "source": [
    "# helper function: write out ranking scores into a csv format file\n",
    "# params:\n",
    "#     df: dataframe, where each row is a test example, with column 'REFERENCE_ID' as data id\n",
    "#     pred: a list or 1-d array of scores for each test example\n",
    "#     filepath: the output file path\n",
    "# return:\n",
    "#     None\n",
    "\n",
    "def write_test_prediction(df, pred, filepath):\n",
    "    with open(filepath, 'w') as outfile:\n",
    "        outfile.write('{},{}\\n'.format('REFERENCE_ID', 'Score'))\n",
    "        for index, row in df.iterrows():\n",
    "            outfile.write('{},{}\\n'.format(row['REFERENCE_ID'], pred[index]))\n",
    "    print (len(df), 'predictions are written to', filepath)"
   ]
  },
  {
   "cell_type": "code",
   "execution_count": 11,
   "id": "d015de16",
   "metadata": {},
   "outputs": [
    {
     "name": "stdout",
     "output_type": "stream",
     "text": [
      "171376 predictions are written to ./random_score.csv\n"
     ]
    }
   ],
   "source": [
    "random_pred_test = [random.random() for i in range(len(test_dataframe))]\n",
    "write_test_prediction(test_dataframe, random_pred_test, './random_score.csv')"
   ]
  },
  {
   "cell_type": "markdown",
   "id": "a4876b13",
   "metadata": {},
   "source": [
    "# Build feature extractor"
   ]
  },
  {
   "cell_type": "markdown",
   "id": "34a9785c",
   "metadata": {},
   "source": [
    "## use all unigrams from the 'TITLE' field of training data as features"
   ]
  },
  {
   "cell_type": "code",
   "execution_count": 12,
   "id": "eee1609c",
   "metadata": {},
   "outputs": [
    {
     "data": {
      "text/plain": [
       "CountVectorizer()"
      ]
     },
     "execution_count": 12,
     "metadata": {},
     "output_type": "execute_result"
    }
   ],
   "source": [
    "vectorizer = CountVectorizer()\n",
    "vectorizer.fit(train_dataframe['TITLE'])"
   ]
  },
  {
   "cell_type": "markdown",
   "id": "19930db7",
   "metadata": {},
   "source": [
    "# Extract feature vectors for training, validation, and test data "
   ]
  },
  {
   "cell_type": "code",
   "execution_count": 13,
   "id": "68feab44",
   "metadata": {},
   "outputs": [
    {
     "name": "stdout",
     "output_type": "stream",
     "text": [
      "(11040, 10728)\n",
      "(4732, 10728)\n",
      "(171376, 10728)\n"
     ]
    }
   ],
   "source": [
    "train_X = vectorizer.transform(train_dataframe['TITLE'])\n",
    "valid_X = vectorizer.transform(valid_dataframe['TITLE'])\n",
    "test_X = vectorizer.transform(test_dataframe['TITLE'])\n",
    "print (train_X.shape)\n",
    "print (valid_X.shape)\n",
    "print (test_X.shape)"
   ]
  },
  {
   "cell_type": "markdown",
   "id": "cf9da4a5",
   "metadata": {},
   "source": [
    "# Train model on training set"
   ]
  },
  {
   "cell_type": "code",
   "execution_count": 14,
   "id": "7c9cacfc",
   "metadata": {},
   "outputs": [
    {
     "data": {
      "text/plain": [
       "LogisticRegression(C=0.1, solver='liblinear')"
      ]
     },
     "execution_count": 14,
     "metadata": {},
     "output_type": "execute_result"
    }
   ],
   "source": [
    "# We treat the ranking task as a classification task\n",
    "# Almost all classification models can output a score that \n",
    "# indicates (roughly) how confident the model believes\n",
    "# an example to belong to a class. \n",
    "# Here in the baseline, we use a logistic regression model.\n",
    "train_Y = train_dataframe['CITED']\n",
    "model = LogisticRegression(C = 0.1, solver='liblinear')\n",
    "model.fit(train_X, train_Y)"
   ]
  },
  {
   "cell_type": "markdown",
   "id": "aea75f14",
   "metadata": {},
   "source": [
    "# Evaluate model on training set"
   ]
  },
  {
   "cell_type": "code",
   "execution_count": 15,
   "id": "27f575af",
   "metadata": {},
   "outputs": [
    {
     "name": "stdout",
     "output_type": "stream",
     "text": [
      "Logistic regression, average precision on training set: 0.5864048874284374\n"
     ]
    }
   ],
   "source": [
    "# To produce a ranking score, we ask the model to output\n",
    "# predicted probability (.predict_proba method), instead of\n",
    "# predicted class label (.predict method)\n",
    "train_Y_hat = model.predict_proba(train_X)\n",
    "train_Y = train_dataframe['CITED'].to_numpy()\n",
    "\n",
    "# According to the documentation:\n",
    "# https://scikit-learn.org/stable/modules/generated/sklearn.linear_model.LogisticRegression.html#sklearn.linear_model.LogisticRegression.predict_proba\n",
    "# The predicted probablity for label '1' (CITED) is \n",
    "# the second column (column index = 1) returned by predict_proba (train_Y_hat)\n",
    "ap = average_precision_score(train_Y, train_Y_hat[:,1])\n",
    "print ('Logistic regression, average precision on training set:', ap)"
   ]
  },
  {
   "cell_type": "markdown",
   "id": "f14bdf16",
   "metadata": {},
   "source": [
    "# Evaluate model on validation set"
   ]
  },
  {
   "cell_type": "code",
   "execution_count": 16,
   "id": "22eccc27",
   "metadata": {},
   "outputs": [
    {
     "name": "stdout",
     "output_type": "stream",
     "text": [
      "Logistic regression, average precision on validation set: 0.3312991887111284\n"
     ]
    }
   ],
   "source": [
    "valid_Y_hat = model.predict_proba(valid_X)\n",
    "valid_Y = valid_dataframe['CITED'].to_numpy()\n",
    "ap = average_precision_score(valid_Y, valid_Y_hat[:,1])\n",
    "print ('Logistic regression, average precision on validation set:', ap)"
   ]
  },
  {
   "cell_type": "code",
   "execution_count": 17,
   "id": "0cb01957",
   "metadata": {},
   "outputs": [],
   "source": [
    "# Here, by using logistic regression, we see a higher average precision \n",
    "# on the validation set (~0.34) than using random scores (~0.13). It is \n",
    "# a sanity check confirming that the logistic regression model can learn\n",
    "# some useful ranking signals (performing better than random).\n",
    "\n",
    "# Note that in this task, the performance on test data can be lower than \n",
    "# that on validadation set, because the test data and validation set do NOT\n",
    "# come from the same underlying distribution.\n",
    "# The validation set is a random subsample of candidate reference pool in 2013.\n",
    "# The test data is the whole candidate reference pool in 2020, which has a\n",
    "# different data distribution from 2013 as a result of topic shift in ozone research. "
   ]
  },
  {
   "cell_type": "markdown",
   "id": "62be1c85",
   "metadata": {},
   "source": [
    "# After experimentation on the validation set: retrain the final model on all training data, and predict scores for test data"
   ]
  },
  {
   "cell_type": "code",
   "execution_count": 20,
   "id": "7538af4f",
   "metadata": {},
   "outputs": [
    {
     "name": "stdout",
     "output_type": "stream",
     "text": [
      "[[0.98216983 0.01783017]\n",
      " [0.95720539 0.04279461]\n",
      " [0.89604686 0.10395314]\n",
      " ...\n",
      " [0.91893944 0.08106056]\n",
      " [0.9294341  0.0705659 ]\n",
      " [0.90639059 0.09360941]]\n"
     ]
    }
   ],
   "source": [
    "print(test_Y_hat)"
   ]
  },
  {
   "cell_type": "code",
   "execution_count": 19,
   "id": "9c2fa8d2",
   "metadata": {},
   "outputs": [
    {
     "name": "stdout",
     "output_type": "stream",
     "text": [
      "171376 predictions are written to ./logistic_regression.csv\n"
     ]
    }
   ],
   "source": [
    "all_train_Y = dataframe['CITED']\n",
    "all_train_X = vectorizer.transform(dataframe['TITLE'])\n",
    "model.fit(all_train_X, all_train_Y)\n",
    "test_Y_hat = model.predict_proba(test_X)\n",
    "write_test_prediction(test_dataframe, test_Y_hat[:,1], './logistic_regression.csv')"
   ]
  },
  {
   "cell_type": "markdown",
   "id": "2063aefc",
   "metadata": {},
   "source": [
    "# Investigate what the model has learned and where it failed (A.K.A. error analysis) ... YOUR TURN!"
   ]
  },
  {
   "cell_type": "code",
   "execution_count": null,
   "id": "6d127dec",
   "metadata": {},
   "outputs": [],
   "source": []
  }
 ],
 "metadata": {
  "kernelspec": {
   "display_name": "Python 3 (ipykernel)",
   "language": "python",
   "name": "python3"
  },
  "language_info": {
   "codemirror_mode": {
    "name": "ipython",
    "version": 3
   },
   "file_extension": ".py",
   "mimetype": "text/x-python",
   "name": "python",
   "nbconvert_exporter": "python",
   "pygments_lexer": "ipython3",
   "version": "3.9.12"
  }
 },
 "nbformat": 4,
 "nbformat_minor": 5
}
